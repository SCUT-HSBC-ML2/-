{
 "cells": [
  {
   "cell_type": "code",
   "execution_count": null,
   "metadata": {},
   "outputs": [],
   "source": [
    "import torch\n",
    "import numpy as np\n",
    "import pandas as pd\n",
    "import random\n",
    "from sklearn.model_selection import train_test_split\n",
    "from torch.utils.data import DataLoader, TensorDataset\n",
    "\n",
    "import torch.nn as nn\n",
    "import torch.nn.functional as F\n",
    "import copy"
   ]
  },
  {
   "cell_type": "code",
   "execution_count": null,
   "metadata": {},
   "outputs": [],
   "source": [
    "SEED = 123456\n",
    "device = torch.device(\"cuda\" if torch.cuda.is_available() else \"cpu\")\n",
    "torch.manual_seed(SEED)\n",
    "torch.cuda.manual_seed(SEED)\n",
    "torch.backends.cudnn.deterministic = True"
   ]
  },
  {
   "cell_type": "code",
   "execution_count": null,
   "metadata": {},
   "outputs": [],
   "source": [
    "data = pd.read_csv(\"train.csv\", dtype=\"float32\")\n",
    "train_X = data.drop([\"Real\"], axis=1)\n",
    "train_y = data[\"Real\"]\n",
    "\n",
    "data = pd.read_csv(\"test.csv\", dtype=\"float32\")\n",
    "test_X = data.drop([\"Real\"], axis=1)\n",
    "test_y = data[\"Real\"]"
   ]
  },
  {
   "cell_type": "code",
   "execution_count": null,
   "metadata": {},
   "outputs": [],
   "source": [
    "train_X = np.array(train_X.values)\n",
    "train_X = torch.from_numpy(train_X)\n",
    "train_X = train_X.to(device)\n",
    "\n",
    "test_X = np.array(test_X.values)\n",
    "test_X = torch.from_numpy(test_X)\n",
    "test_X = test_X.to(device)\n",
    "\n",
    "train_y = np.array(train_y.values)\n",
    "train_y = torch.from_numpy(train_y)\n",
    "train_y = train_y.to(device)\n",
    "test_y = np.array(test_y.values)\n",
    "test_y = torch.from_numpy(test_y)\n",
    "test_y = test_y.to(device)"
   ]
  },
  {
   "cell_type": "code",
   "execution_count": null,
   "metadata": {},
   "outputs": [],
   "source": [
    "train = TensorDataset(train_X, train_y)\n",
    "train = DataLoader(dataset=train, batch_size=64, shuffle=False)\n",
    "valid = TensorDataset(test_X, test_y)\n",
    "valid = DataLoader(dataset=valid, batch_size=64, shuffle=False)\n",
    "dataloaders = {\"train\":train, \"val\":valid}"
   ]
  },
  {
   "cell_type": "code",
   "execution_count": null,
   "metadata": {},
   "outputs": [],
   "source": [
    "class LinearModel(nn.Module):\n",
    "    def __init__(self, input_size, output_size):\n",
    "        super().__init__()\n",
    "        self.fc1 = nn.Linear(input_size, input_size)\n",
    "        self.fc2 = nn.Linear(input_size, output_size)\n",
    "        \n",
    "    def forward(self, data):\n",
    "        hidden = F.relu(self.fc1(data))\n",
    "        hidden = self.fc2(hidden)\n",
    "        return hidden.squeeze()"
   ]
  },
  {
   "cell_type": "code",
   "execution_count": null,
   "metadata": {},
   "outputs": [],
   "source": [
    "model = LinearModel(input_size=len(train_X[0]), output_size=1)\n",
    "crit = nn.MSELoss()\n",
    "learning_rate = 0.01\n",
    "optimizer = torch.optim.Adam(model.parameters(), lr=learning_rate)\n",
    "\n",
    "model = model.to(device)\n",
    "crit = crit.to(device)"
   ]
  },
  {
   "cell_type": "code",
   "execution_count": null,
   "metadata": {},
   "outputs": [],
   "source": [
    "def train_model(model, dataloaders, crit, optimizer, num_epochs = 5):\n",
    "    best_model_wts = copy.deepcopy(model.state_dict())\n",
    "    best_loss = 50000 * 50000\n",
    "    for epoch in range(num_epochs):\n",
    "        for phase in [\"train\", \"val\"]:\n",
    "            running_loss = 0\n",
    "            if phase == \"train\":\n",
    "                model.train()\n",
    "            else:\n",
    "                model.eval()\n",
    "        \n",
    "            for inputs, labels in dataloaders[phase]:\n",
    "                inputs, labels = inputs.to(device), labels.to(device)\n",
    "                \n",
    "                with torch.autograd.set_grad_enabled(phase==\"train\"):\n",
    "                    outputs = model(inputs)\n",
    "                    loss = crit(outputs, labels)\n",
    "\n",
    "                if phase == \"train\":\n",
    "                    optimizer.zero_grad()\n",
    "                    loss.backward()\n",
    "                    optimizer.step()\n",
    "                running_loss += loss.item() * inputs.size(0)\n",
    "            \n",
    "            epoch_loss = running_loss / len(dataloaders[phase].dataset)\n",
    "            if epoch % 100 == 0:\n",
    "                \n",
    "                print(\"Phase {} loss:{}\".format(phase, epoch_loss))\n",
    "        \n",
    "        if phase == \"val\" and epoch_loss < best_loss:\n",
    "            best_loss = epoch_loss\n",
    "            best_model_wts = copy.deepcopy(model.state_dict())\n",
    "        \n",
    "    model.load_state_dict(best_model_wts)\n",
    "    return model      "
   ]
  },
  {
   "cell_type": "code",
   "execution_count": null,
   "metadata": {},
   "outputs": [],
   "source": [
    "model = train_model(model, dataloaders, crit, optimizer, num_epochsv=10000)"
   ]
  }
 ],
 "metadata": {
  "kernelspec": {
   "display_name": "Python 3",
   "language": "python",
   "name": "python3"
  },
  "language_info": {
   "codemirror_mode": {
    "name": "ipython",
    "version": 3
   },
   "file_extension": ".py",
   "mimetype": "text/x-python",
   "name": "python",
   "nbconvert_exporter": "python",
   "pygments_lexer": "ipython3",
   "version": "3.7.4"
  }
 },
 "nbformat": 4,
 "nbformat_minor": 4
}
